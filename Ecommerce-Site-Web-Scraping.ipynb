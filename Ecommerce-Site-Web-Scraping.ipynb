{
 "cells": [
  {
   "cell_type": "markdown",
   "id": "398a5d16",
   "metadata": {},
   "source": [
    "# A web scraping bot to extract sellers and listings data from an ecommerce platform (Etsy)"
   ]
  },
  {
   "cell_type": "markdown",
   "id": "618765f6",
   "metadata": {},
   "source": [
    "Scraping data from Etsy and then putting it into csv files/spreadsheets.The bot is given a seller's url and extracts seller data first and puts it into seller sheet, it then extracts data for all of the listings of the seller and puts it in listing sheet. After every 24 hours the sheet is updated."
   ]
  },
  {
   "cell_type": "markdown",
   "id": "770d7916",
   "metadata": {},
   "source": [
    "Importing the necessary libraries"
   ]
  },
  {
   "cell_type": "code",
   "execution_count": 2,
   "id": "d292e4ee",
   "metadata": {},
   "outputs": [],
   "source": [
    "import requests\n",
    "from bs4 import BeautifulSoup\n",
    "import time\n",
    "import datetime\n",
    "import pandas as pd\n",
    "import csv"
   ]
  },
  {
   "cell_type": "markdown",
   "id": "69cb9bf4",
   "metadata": {},
   "source": [
    "Setting the URLs and headers"
   ]
  },
  {
   "cell_type": "code",
   "execution_count": 2,
   "id": "0c26cb25",
   "metadata": {},
   "outputs": [],
   "source": [
    "seller_url_1 = 'https://www.etsy.com/shop/ferraportrait?ref=l2-about-shopname'\n",
    "seller_url_2 = 'https://www.etsy.com/shop/OnemerceMarketingLtd?ref=l2-about-shopname'\n",
    "seller_url_3 = 'https://www.etsy.com/shop/BellasLines?ref=l2-about-shopname'\n"
   ]
  },
  {
   "cell_type": "code",
   "execution_count": 3,
   "id": "d4aeaf56",
   "metadata": {},
   "outputs": [],
   "source": [
    "\n",
    "headers = {\"User-Agent\": \"Mozilla/5.0 (Windows NT 10.0; Win64; x64) AppleWebKit/537.36 (KHTML, like Gecko) Chrome/116.0.0.0 Safari/537.36\", \"Accept-Encoding\":\"gzip, deflate\", \"Accept\":\"text/html,application/xhtml+xml,application/xml;q=0.9,*/*;q=0.8\", \"DNT\":\"1\",\"Connection\":\"close\", \"Upgrade-Insecure-Requests\":\"1\"}\n"
   ]
  },
  {
   "cell_type": "markdown",
   "id": "198cfa9a",
   "metadata": {},
   "source": [
    "# Helper functions for the bot"
   ]
  },
  {
   "cell_type": "code",
   "execution_count": 4,
   "id": "73d0a30f",
   "metadata": {},
   "outputs": [],
   "source": [
    "def get_seller_data(seller_url):\n",
    "    \n",
    "    response = requests.get(seller_url, headers = headers)\n",
    "    soup = BeautifulSoup(response.content, 'html.parser')\n",
    "    \n",
    "    name = soup.find(class_='wt-text-heading-01 wt-text-truncate').get_text()\n",
    "    sales = soup.find(class_='wt-text-caption wt-no-wrap').get_text()\n",
    "    number_of_reviews = soup.find(class_='wt-display-inline-block wt-vertical-align-middle').get_text()\n",
    "    average_rating = soup.find_all(class_='screen-reader-only')[2].get_text()\n",
    "    number_of_items = soup.find_all(class_='wt-mr-md-2')[0].get_text()\n",
    "    if soup.find_all(class_='wt-text-title-03 wt-display-block'):\n",
    "        creation_year =  soup.find_all(class_='wt-text-title-03 wt-display-block')[1].get_text()\n",
    "    else:\n",
    "        creation_year = 'Not found'\n",
    "    \n",
    "    #cleanup number of reviews string by removing brackets\n",
    "    number_of_reviews = number_of_reviews.replace('(', '')\n",
    "    number_of_reviews = number_of_reviews.replace(')', '')\n",
    "    \n",
    "    #cleanup sales\n",
    "    sales = sales.replace(' Sales','')\n",
    "    \n",
    "    #timestamp\n",
    "    date = datetime.date.today()\n",
    "\n",
    "    \n",
    "    data_list = [name,  sales, number_of_items,  creation_year, number_of_reviews, average_rating, date]\n",
    "    \n",
    "    return data_list\n",
    "    "
   ]
  },
  {
   "cell_type": "code",
   "execution_count": 5,
   "id": "e16a1f69",
   "metadata": {},
   "outputs": [],
   "source": [
    "def get_listing_links(seller_url):\n",
    "    \n",
    "   \n",
    "   \n",
    "    productlinks = []\n",
    "    \n",
    "    response = requests.get(seller_url, headers = headers)\n",
    "    soup = BeautifulSoup(response.content, 'html.parser') \n",
    "    \n",
    "    ########## check for featured products to remove repitition later on ###############\n",
    "    featured_product_links = []\n",
    "    featured = soup.find_all('div', class_='featured-products-area wt-position-relative')\n",
    "    \n",
    "    if len( soup.find_all('div', class_='featured-products-area wt-position-relative') ) != 0:\n",
    "        featured_product_list = featured[0].find_all(class_='listing-link wt-display-inline-block wt-transparent-card')\n",
    "\n",
    "        for featured_link in featured_product_list:\n",
    "            featured_product_links.append(featured_link['href'])\n",
    "        \n",
    "    ############## Finding number of pages of items if any #########################\n",
    "\n",
    "    pagination = soup.find_all(class_='wt-action-group__item-container')[1]\n",
    "    max_page = pagination.find('p').get_text()\n",
    "    \n",
    "    max_page = max_page.replace('Page 1 of ', '')\n",
    "    last_page = int(max_page) + 1\n",
    "\n",
    "\n",
    "    ####### storing number of items ####################\n",
    "    number_of_items = soup.find_all(class_='wt-mr-md-2')[0].get_text()\n",
    "    num_items = int(number_of_items)\n",
    "    \n",
    "    ###############  Finding product links and appending to list #####################\n",
    "    if num_items > 36:\n",
    "    \n",
    "        for x in range(1, last_page):\n",
    "            \n",
    "\n",
    "            response = requests.get(seller_url+'&page='+str(x)+'#items', headers = headers)\n",
    "            soup = BeautifulSoup(response.content, 'html.parser')  \n",
    "\n",
    "            product_list = soup.find_all('div', class_='js-merch-stash-check-listing v2-listing-card wt-position-relative wt-grid__item-xs-6 wt-flex-shrink-xs-1 wt-grid__item-xl-3 wt-grid__item-lg-4 wt-grid__item-md-4 listing-card-experimental-style')\n",
    "\n",
    "            for item in product_list:\n",
    "                for link in item.find_all('a', href=True):\n",
    "                    if link['href'] not in featured_product_links:\n",
    "                        productlinks.append(link['href'])\n",
    "                    \n",
    "    else:\n",
    "                    \n",
    "        product_list = soup.find_all('div', class_='js-merch-stash-check-listing v2-listing-card wt-position-relative wt-grid__item-xs-6 wt-flex-shrink-xs-1 wt-grid__item-xl-3 wt-grid__item-lg-4 wt-grid__item-md-4 listing-card-experimental-style')\n",
    "\n",
    "        for item in product_list:\n",
    "            for link in item.find_all('a', href=True):\n",
    "                if link['href'] not in featured_product_links:\n",
    "                    productlinks.append(link['href'])\n",
    "            \n",
    "    \n",
    "    return productlinks\n",
    "    "
   ]
  },
  {
   "cell_type": "code",
   "execution_count": 6,
   "id": "1ccd02c2",
   "metadata": {},
   "outputs": [],
   "source": [
    "def get_listing_data(listing_url):\n",
    "    \n",
    "    response = requests.get(listing_url, headers = headers)\n",
    "    soup = BeautifulSoup(response.content, 'html.parser')\n",
    "    \n",
    "    title = soup.find(class_='wt-text-body-01 wt-line-height-tight wt-break-word wt-mt-xs-1').get_text().strip()\n",
    "    price = soup.find('div',class_='wt-display-flex-xs wt-align-items-center wt-flex-wrap')\n",
    "    \n",
    "    #cleanup price\n",
    "    price = price.find('p').get_text().strip()\n",
    "    price = price.replace('Price:\\n        ', '')\n",
    "    \n",
    "    date = datetime.date.today()\n",
    "    \n",
    "    data_list =[title,price,date]\n",
    "        \n",
    "    return data_list   \n",
    "    "
   ]
  },
  {
   "cell_type": "markdown",
   "id": "010df4fe",
   "metadata": {},
   "source": [
    "# Etsy scraping bot"
   ]
  },
  {
   "cell_type": "markdown",
   "id": "996197be",
   "metadata": {},
   "source": [
    "Initializing the csv files for each sheet with their headings"
   ]
  },
  {
   "cell_type": "code",
   "execution_count": 7,
   "id": "bf27c45b",
   "metadata": {},
   "outputs": [],
   "source": [
    "\n",
    "seller_header = ['Seller name', 'Sales', 'Number of items', 'Creation Year', 'Number of Reviews', 'Average Rating', 'Date Updated']\n",
    "with open('sellers.csv', 'w', newline='', encoding='UTF8') as f:\n",
    "    writer = csv.writer(f)\n",
    "    writer.writerow(seller_header)\n",
    "    \n",
    "listings_header = ['Seller name', 'Listing Title', 'Price','Date Updated']\n",
    "with open('listings.csv', 'w', newline='', encoding='UTF8') as f:\n",
    "    writer = csv.writer(f)\n",
    "    writer.writerow(listings_header)   "
   ]
  },
  {
   "cell_type": "markdown",
   "id": "28ab8992",
   "metadata": {},
   "source": [
    "Scrapes with just one seller url as input"
   ]
  },
  {
   "cell_type": "code",
   "execution_count": 8,
   "id": "018dffd8",
   "metadata": {},
   "outputs": [],
   "source": [
    "def Etsy_Scraping_Bot(seller_url):\n",
    "    \n",
    "    seller_data = get_seller_data(seller_url)\n",
    "\n",
    "    with open('sellers.csv', 'a+', newline='', encoding='UTF8') as f:\n",
    "        writer = csv.writer(f)\n",
    "        writer.writerow(seller_data)\n",
    "        \n",
    "    listing_links = get_listing_links(seller_url)\n",
    "    \n",
    "    \n",
    "    for link in listing_links:\n",
    "        \n",
    "        listing_data = get_listing_data(link)\n",
    "        listing_data.insert(0,seller_data[0])\n",
    "        \n",
    "        with open('listings.csv', 'a+', newline='', encoding='UTF8') as f:\n",
    "            writer = csv.writer(f)\n",
    "            writer.writerow(listing_data)\n",
    "        \n",
    "    "
   ]
  },
  {
   "cell_type": "code",
   "execution_count": 9,
   "id": "d4f7bb5d",
   "metadata": {},
   "outputs": [],
   "source": [
    "sellers = [seller_url_1, seller_url_2, seller_url_3]"
   ]
  },
  {
   "cell_type": "markdown",
   "id": "a6d88f7b",
   "metadata": {},
   "source": [
    "The following function takes multiple sellers as input and scrapes the data for each"
   ]
  },
  {
   "cell_type": "code",
   "execution_count": 10,
   "id": "93101da3",
   "metadata": {},
   "outputs": [],
   "source": [
    "def scrape_multiple_sellers(sellers_urls):\n",
    "    for seller_url in sellers_urls:\n",
    "        Etsy_Scraping_Bot(seller_url)"
   ]
  },
  {
   "cell_type": "markdown",
   "id": "21cfeb1b",
   "metadata": {},
   "source": [
    "# A loop where the bot updates the sheets every 24 hours"
   ]
  },
  {
   "cell_type": "markdown",
   "id": "86cddff5",
   "metadata": {},
   "source": [
    "Run this cell only to update, the rest of the cells have to be run only once"
   ]
  },
  {
   "cell_type": "code",
   "execution_count": null,
   "id": "6acb58fe",
   "metadata": {},
   "outputs": [],
   "source": [
    "while True:\n",
    "    scrape_multiple_sellers(sellers)\n",
    "    time.sleep(86400)  # wait for 24 hours"
   ]
  },
  {
   "cell_type": "markdown",
   "id": "75e0f7ae",
   "metadata": {},
   "source": [
    "# Reading and displaying both sheets"
   ]
  },
  {
   "cell_type": "code",
   "execution_count": 5,
   "id": "c662bc66",
   "metadata": {},
   "outputs": [
    {
     "name": "stdout",
     "output_type": "stream",
     "text": [
      "            Seller name   Sales  Number of items Creation Year  \\\n",
      "0         ferraportrait   1,697              169          2023   \n",
      "1         ferraportrait   1,697              169          2023   \n",
      "2  OnemerceMarketingLtd     393               32     Not found   \n",
      "3           BellasLines  18,529               35          2022   \n",
      "\n",
      "   Number of Reviews    Average Rating Date Updated  \n",
      "0                493  5 out of 5 stars   2023-09-22  \n",
      "1                493  5 out of 5 stars   2023-09-22  \n",
      "2                 86  5 out of 5 stars   2023-09-22  \n",
      "3               6606  5 out of 5 stars   2023-09-22  \n"
     ]
    }
   ],
   "source": [
    "df = pd.read_csv(r'C:\\Users\\faqeha\\sellers.csv')\n",
    "df2 = pd.read_csv(r'C:\\Users\\faqeha\\listings.csv')\n",
    "print(df)"
   ]
  },
  {
   "cell_type": "code",
   "execution_count": 6,
   "id": "5ab4d332",
   "metadata": {},
   "outputs": [
    {
     "name": "stdout",
     "output_type": "stream",
     "text": [
      "       Seller name                                      Listing Title  \\\n",
      "0    ferraportrait  Custom portrait gift, personalized photo, face...   \n",
      "1    ferraportrait  Custom family portrait and friendship gift, cu...   \n",
      "2    ferraportrait  Custom illustration gifts Faceless Portrait, p...   \n",
      "3    ferraportrait  Best Friend Gift Birthday, couple Portrait, Fa...   \n",
      "4    ferraportrait  Personalized Family Portrait From Photo, Carto...   \n",
      "..             ...                                                ...   \n",
      "231    BellasLines  Newborn Gift, Custom Baby Portrait, Personalis...   \n",
      "232    BellasLines  Custom Chirstmas Gift, Custom Family Portrait,...   \n",
      "233    BellasLines  Custom Pet Portrait, Dog Portrait, Cat Portrai...   \n",
      "234    BellasLines  Custom Pet Portrait, Pet Portrait Drawing, Cus...   \n",
      "235    BellasLines  Custom family gift, personalized portrait, Cus...   \n",
      "\n",
      "         Price Date Updated  \n",
      "0    USD 3.09+   2023-09-22  \n",
      "1    USD 3.09+   2023-09-22  \n",
      "2    USD 3.09+   2023-09-22  \n",
      "3    USD 3.09+   2023-09-22  \n",
      "4    USD 4.24+   2023-09-22  \n",
      "..         ...          ...  \n",
      "231  USD 9.00+   2023-09-22  \n",
      "232  USD 9.00+   2023-09-22  \n",
      "233  USD 9.00+   2023-09-22  \n",
      "234  USD 9.00+   2023-09-22  \n",
      "235  USD 9.00+   2023-09-22  \n",
      "\n",
      "[236 rows x 4 columns]\n"
     ]
    }
   ],
   "source": [
    "print(df2)"
   ]
  },
  {
   "cell_type": "code",
   "execution_count": null,
   "id": "d153086d",
   "metadata": {},
   "outputs": [],
   "source": []
  }
 ],
 "metadata": {
  "kernelspec": {
   "display_name": "Python 3 (ipykernel)",
   "language": "python",
   "name": "python3"
  },
  "language_info": {
   "codemirror_mode": {
    "name": "ipython",
    "version": 3
   },
   "file_extension": ".py",
   "mimetype": "text/x-python",
   "name": "python",
   "nbconvert_exporter": "python",
   "pygments_lexer": "ipython3",
   "version": "3.11.4"
  }
 },
 "nbformat": 4,
 "nbformat_minor": 5
}
